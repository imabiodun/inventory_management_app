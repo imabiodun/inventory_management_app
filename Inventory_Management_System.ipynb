{
 "cells": [
  {
   "cell_type": "markdown",
   "id": "175668ce",
   "metadata": {
    "id": "175668ce"
   },
   "source": [
    "Build an inventory management system for a supermarket"
   ]
  },
  {
   "cell_type": "code",
   "execution_count": 1,
   "id": "ae345c2a-4813-43e8-9537-eed7231fd340",
   "metadata": {
    "ExecuteTime": {
     "end_time": "2024-01-15T14:18:06.463873Z",
     "start_time": "2024-01-15T14:17:46.300241Z"
    },
    "id": "ad5cd414"
   },
   "outputs": [],
   "source": [
    "# import needed libraries\n",
    "import pandas as pd\n",
    "import re\n",
    "from datetime import datetime"
   ]
  },
  {
   "cell_type": "code",
   "execution_count": 2,
   "id": "2d9f2b11-9f39-4264-b070-d21afc6649f2",
   "metadata": {
    "ExecuteTime": {
     "end_time": "2024-01-15T14:18:06.495874Z",
     "start_time": "2024-01-15T14:18:06.476869Z"
    }
   },
   "outputs": [],
   "source": [
    "#create a data log function for all actions performed on this program\n",
    "def data_log_func (action):\n",
    "    \"\"\"\n",
    "    creates a log file to register every addition or subraction that happened on the inventory file\n",
    "    \"\"\"\n",
    "    with open ('data_log.csv','a') as f:\n",
    "        f.write(f'{action},{ datetime.now().time()},{ datetime.now().date()}\\n')"
   ]
  },
  {
   "cell_type": "code",
   "execution_count": 4,
   "id": "7b88e84e-a1b4-49b3-818d-6b5e89dc0c53",
   "metadata": {
    "ExecuteTime": {
     "end_time": "2024-01-15T14:18:27.094093Z",
     "start_time": "2024-01-15T14:18:27.079089Z"
    }
   },
   "outputs": [],
   "source": [
    "def quan_or_price(x = 'input value: '):\n",
    "    while True:\n",
    "        \"\"\"\n",
    "        input prompt to accept numerical input only for quantity and price\n",
    "        \"\"\"\n",
    "        try:\n",
    "            quantity = input(x)\n",
    "            if quantity.strip() == '00':\n",
    "                break\n",
    "            else:\n",
    "                return int(quantity)\n",
    "        except ValueError :\n",
    "            print('Input numeric values\\n')"
   ]
  },
  {
   "cell_type": "code",
   "execution_count": 5,
   "id": "c2f77259-c0e3-4086-9a6d-70b5cf5657c9",
   "metadata": {
    "ExecuteTime": {
     "end_time": "2024-01-15T14:18:28.651801Z",
     "start_time": "2024-01-15T14:18:28.634796Z"
    }
   },
   "outputs": [],
   "source": [
    "def input_prompt():\n",
    "\n",
    " # make last quantity input and last price input accessible anywhere\n",
    "    global quantity\n",
    "    global price\n",
    "    '''\n",
    "            1. function to reduce repetition of writing codes\n",
    "            2. accepts input for quantity and price\n",
    "            3. inputs can be accessed anywhere\n",
    "    '''\n",
    "    try:\n",
    "        quantity = quan_or_price('Enter quantity: ')\n",
    "        price = quan_or_price('Enter price: ')       \n",
    "        return int(quantity), float(price)\n",
    "    except TypeError:\n",
    "        return quantity, price"
   ]
  },
  {
   "cell_type": "code",
   "execution_count": 49,
   "id": "V8IN22g0pc-Y",
   "metadata": {
    "ExecuteTime": {
     "end_time": "2024-01-15T14:52:24.835833Z",
     "start_time": "2024-01-15T14:52:24.736817Z"
    },
    "id": "V8IN22g0pc-Y"
   },
   "outputs": [],
   "source": [
    "# adding products to inventory  \n",
    "def add_product():\n",
    "    \"\"\"\n",
    "    inputs product name, quantity, price, datetime of inventory to inventory data file\n",
    "    \"\"\"\n",
    "        # input product name\n",
    "    product_name = input('Enter Product name: ').lower()\n",
    "    # check if inventory data file already exist\n",
    "    try:\n",
    "        data = pd.read_csv('inventory_data.csv',names = ['Product Name', 'Quantity','Price','Datetime'])\n",
    "              # search product in dataset\n",
    "        existing_product = data[data['Product Name'].str.lower() == product_name]\n",
    "        \n",
    "        \n",
    "        if not existing_product.empty: # to update if product name already exist\n",
    "            print(product_name, 'already exist')\n",
    "            update_product = input('Do you want to update? (Y/N): ').upper()\n",
    "            # to update already existing product name\n",
    "            if update_product == 'Y':\n",
    "                          # user inputs new quantity and new price\n",
    "                input_prompt()\n",
    "                          # input new quantity, new price and datetime\n",
    "                if product_name is not None and quantity is not None and price is not None:\n",
    "                    print(quantity is not None,price)\n",
    "                    data.loc[data['Product Name'] == product_name,['Quantity','Price','Datetime']] = (quantity, price, datetime.now())\n",
    "                          # return dataset as csv file\n",
    "                    data.to_csv('inventory_data.csv',header  = None, index = False)\n",
    "                    data_log_func(f\"updated '{product_name}'\")\n",
    "                    \n",
    "                    print(f'{product_name}', 'updated')\n",
    "                else:\n",
    "                    print('Operation Cancelled')\n",
    "            else: # if user does not want to update product\n",
    "                print('No Product Updated')\n",
    "            \n",
    "        else: # if there is product name search mismatch in the product name\n",
    "            searched = search_product_name(product_name)\n",
    "            if searched:\n",
    "                update_product = input('Do you want to update? (Y/N)').upper()\n",
    "                if update_product == 'Y':\n",
    "                              # input new quantity, new price and datetime\n",
    "                    input_prompt()\n",
    "                    if product_name is not None and quantity is not None and price is not None:\n",
    "                        data.loc[data['Product Name'] == searched, ['Quantity','Price','Datetime']] = (quantity, price, datetime.now())\n",
    "                                  # return dataset as csv file\n",
    "                        data.to_csv('inventory_data.csv',header  = None, index = False)\n",
    "                        # data_log_func(f\"updated '{productName}'\")\n",
    "                        data_log_func(f\"updated '{searched}'\")\n",
    "                        print(f'{searched}', 'updated in Inventory')\n",
    "                    else:\n",
    "                        print('Operation cancelled')\n",
    "                else:\n",
    "                    print('No Product Updated')\n",
    "            else:\n",
    "                input_prompt()\n",
    "                if product_name is not None and quantity is not None and price is not None:\n",
    "                    # print(product_name is None and quantity is None and price is None)\n",
    "                    '''join the old dataset and the new product name together'''\n",
    "                    new_data = pd.DataFrame({'Product Name':[product_name],'Quantity':[quantity],\\\n",
    "                                    'Price':[price], 'Datetime':[datetime.now()]})\n",
    "                    data = pd.concat([data, new_data], axis = 0, ignore_index = True)\n",
    "                    data.to_csv('inventory_data.csv', header = None, index = False)\n",
    "                    data_log_func(f\"updated '{product_name}'\")\n",
    "                    print(f'{product_name}', 'updated to Inventory')\n",
    "                    \n",
    "                else:\n",
    "                    print('Operation Cancelled!')\n",
    "    except FileNotFoundError: #if file runs through File Not Found Error\n",
    "        prompt_user = input('Do you want to create a new Inventory file: (Y/N)').upper()\n",
    "        if prompt_user == 'Y':\n",
    "            print('Inventory file created')\n",
    "            input_prompt()\n",
    "            if product_name is not None and quantity is not None and price is not None:\n",
    "                data = pd.DataFrame({'Product Name':[product_name],'Quantity':[quantity],'Price':[price], 'Datetime':[datetime.now()]})\n",
    "                data.to_csv('inventory_data.csv', index = False, header = None)\n",
    "                data_log_func(f\"added '{product_name}'\")\n",
    "            else:\n",
    "                print('Operation Cancelled')\n",
    "\n",
    "        else:\n",
    "            print('File does not exist')\n",
    "         # to show add product process complete\n",
    "    print('Done!')"
   ]
  },
  {
   "cell_type": "code",
   "execution_count": 45,
   "id": "ecbf10d5-f70f-42d6-b452-9bad9f68dc46",
   "metadata": {
    "ExecuteTime": {
     "end_time": "2024-01-15T14:49:21.526608Z",
     "start_time": "2024-01-15T14:49:21.510607Z"
    }
   },
   "outputs": [],
   "source": [
    "# check if the input value is a numeric value\n",
    "def check_num(prompt = 'input option'):\n",
    "    while True: #continue ruuning  if the input value is not a numeric value\n",
    "        try:\n",
    "            input_option = input(prompt).strip()\n",
    "            int_input_option = int(input_option) \n",
    "            return input_option, int_input_option - 1\n",
    "        except ValueError:\n",
    "            print('input numerical value')"
   ]
  },
  {
   "cell_type": "code",
   "execution_count": 155,
   "id": "ffb2ad38-d975-4310-80c6-68a063e2fc4f",
   "metadata": {
    "ExecuteTime": {
     "end_time": "2024-01-15T15:24:43.865881Z",
     "start_time": "2024-01-15T15:24:43.831871Z"
    },
    "scrolled": true
   },
   "outputs": [],
   "source": [
    "#search word suggestion function\n",
    "def search_product_name(x, exit_message = 'Cancelled'):\n",
    "    if len(x) > 0:\n",
    "            \n",
    "        data = pd.read_csv('inventory_data.csv',\\\n",
    "                            names = ['Product Name', 'Quantity','Price','Datetime'])\n",
    "            \n",
    "        search_word = data['Product Name'] # get series data of product names available\n",
    "        pattern = ''.join(['(?=.*' + letter + '.*)' for letter in x]) # create different search patterns for search_product_name function\n",
    "        pattern += '.{2,}' # patterns uses 2 or more word for search_product_name function\n",
    "        matches = [word for word in search_word if re.search(pattern, word)] # result of all completed suggestions matches\n",
    "        \n",
    "        if len(matches) > 0: # if length of matches list is greater than 0\n",
    "            print('These suggestions came out. \\nDo you mean:')\n",
    "            for index, word in enumerate(matches, start=1):\n",
    "                print(f'{index}. {word}') # shows suggestions\n",
    "            print('00. Exit / Cancel') # to exit\n",
    "        \n",
    "        # run a while loop to select option out of matches list\n",
    "        while len(matches)>0 : # if length of matches list is greater than 0\n",
    "            input_option, int_input_option = check_num('Please input a numerical option: ')           \n",
    "\n",
    "            if 0 <= int_input_option < len(matches) :\n",
    "                print(f\"You selected: {matches[int_input_option]}\")\n",
    "                return matches[int_input_option]\n",
    "                # print(matches[int_input_option])\n",
    "                break\n",
    "            elif re.match(r\"^00$\", input_option):\n",
    "                print(exit_message)\n",
    "                break\n",
    "            else:\n",
    "                print('Invalid selection. Please choose a correct option.')"
   ]
  },
  {
   "cell_type": "code",
   "execution_count": 32,
   "id": "8422f32c",
   "metadata": {
    "ExecuteTime": {
     "end_time": "2024-01-15T14:47:11.966260Z",
     "start_time": "2024-01-15T14:47:11.947260Z"
    },
    "id": "8422f32c"
   },
   "outputs": [],
   "source": [
    "# view all inventory\n",
    "def view_inventory():\n",
    "  # read csv file\n",
    "    try:\n",
    "        data = pd.read_csv('inventory_data.csv', header=None, names=['Product Name', 'Quantity', 'Price', 'Datetime'])\n",
    "        # if data is empty\n",
    "        if data.empty:\n",
    "            print('No products in the inventory')\n",
    "        else: # display all inventory table\n",
    "            print('\\n')\n",
    "            print('Product Inventory:\\n')\n",
    "            return display(data)\n",
    "    except FileNotFoundError: # run if file runs through  a file not found error\n",
    "        print('File does not exist\\n')"
   ]
  },
  {
   "cell_type": "code",
   "execution_count": 42,
   "id": "ea64e00f-4af3-40e1-a0df-98e3ea52bbf4",
   "metadata": {
    "ExecuteTime": {
     "end_time": "2024-01-15T14:48:48.308664Z",
     "start_time": "2024-01-15T14:48:48.283657Z"
    }
   },
   "outputs": [],
   "source": [
    "# search for a product in inventory data function\n",
    "def search_product():\n",
    "    product_name = input('Enter the name of the product to search: ').lower()\n",
    "    try:\n",
    "      # reads inventory file csv\n",
    "        data = pd.read_csv('inventory_data.csv', names=['Product Name', 'Quantity',\\\n",
    "                                     'Price','Datetime'])\n",
    "        product_name_check = data[data['Product Name'] == product_name]\n",
    "        if not product_name_check.empty: \n",
    "          # returns product name if product name matches a product name in the dataset\n",
    "            print(f'\"{product_name}\" found\\n')\n",
    "            display(product_name_check)\n",
    "\n",
    "        else:\n",
    "          # search product_name with suggestions\n",
    "            searched = search_product_name(product_name,exit_message = '')\n",
    "            if searched: # runs if there is one or more suggestions\n",
    "                display (data[data['Product Name'] == searched])\n",
    "            else:\n",
    "                print(f'{product_name}', 'not found in Inventory')\n",
    "    except FileNotFoundError: # run if file runs through  a file not found error\n",
    "        print('\\nFile does not exist\\n')"
   ]
  },
  {
   "cell_type": "code",
   "execution_count": 40,
   "id": "ac151b61-fb1f-42a5-b2f6-f2551b20f30f",
   "metadata": {
    "ExecuteTime": {
     "end_time": "2024-01-15T14:48:22.951035Z",
     "start_time": "2024-01-15T14:48:22.897998Z"
    }
   },
   "outputs": [],
   "source": [
    "# remove product name from inventory file list function\n",
    "def remove_product_name(x = ''):\n",
    "    try: \n",
    "        with open('inventory_data.csv','r') as f:\n",
    "            file = f.read() \n",
    "        file_split = file.splitlines()\n",
    "        file_split = [word.split(',') for word in file_split]\n",
    "        file_split_ = ''\n",
    "        if x == 'wipeWI__PEwipe':\n",
    "            file_split_= ''\n",
    "            data_log_func('inventory wiped')\n",
    "            print('File inventory Wiped')\n",
    "        else:\n",
    "            product_name = input('Enter product name to be removed: ').lower().strip() # remove border spaces and trun to lower case strings\n",
    "            # open inventory data csv file to read\n",
    "            for index,item in enumerate(file_split):\n",
    "                if item[0] == product_name:\n",
    "                    file_split.pop(index)            \n",
    "                    file_split_ = '\\n'.join(_ for _ in [', '.join (word) for word in file_split])# joins elements in every list together and convert all to strings\n",
    "                    data_log_func(f\"'removed', {product_name}\")\n",
    "                    print( f'\"{product_name}\"','removed from inventory')\n",
    "                    break\n",
    "            else:\n",
    "                # use search_product_name to get suggestions\n",
    "                searched = search_product_name(product_name)\n",
    "                if searched:\n",
    "                    for index,item in enumerate(file_split):\n",
    "                        if item[0] == searched:\n",
    "                            file_split.pop(index)\n",
    "                            file_split_ = '\\n'.join(_ for _ in [', '.join (word) for word in file_split]) # joins elements in every list together and convert all to string\n",
    "                            print(f'\"{searched}\"', 'removed from inventory') # outputs after the searched is done\n",
    "                            break\n",
    "                else:\n",
    "                    file_split_ = '\\n'.join(_ for _ in [', '.join (word) for word in file_split]) # joins elements in every list together and convert all to strings \n",
    "                    print(product_name,'is not found')\n",
    "        try:\n",
    "            with open('inventory_data.csv','w') as f_: # write csv file again after removal of product name\n",
    "                f_.write(file_split_)\n",
    "                print('\\nDone!!!')\n",
    "        except TypeError: # return if file is empty\n",
    "            print('\\nFile is empty')\n",
    "    except FileNotFoundError :\n",
    "        print('\\nFile does not exist!')"
   ]
  },
  {
   "cell_type": "code",
   "execution_count": 143,
   "id": "aae281a7",
   "metadata": {
    "ExecuteTime": {
     "end_time": "2024-01-15T15:18:20.454455Z",
     "start_time": "2024-01-15T15:18:20.439446Z"
    }
   },
   "outputs": [],
   "source": [
    "def greet():\n",
    "    now = datetime.now()\n",
    "    if now.hour < 12:\n",
    "        return 'Good morning!'\n",
    "    elif now.hour < 17 :\n",
    "        return 'Good afternoon!'\n",
    "    else:\n",
    "        return 'Good evening!'"
   ]
  },
  {
   "cell_type": "code",
   "execution_count": 141,
   "id": "442cf789",
   "metadata": {
    "ExecuteTime": {
     "end_time": "2024-01-15T15:18:04.774806Z",
     "start_time": "2024-01-15T15:18:04.756804Z"
    }
   },
   "outputs": [],
   "source": [
    "def low_notification(low = 5):\n",
    "    print('low quantity items: ')\n",
    "    try:\n",
    "        data = pd.read_csv('inventory_data.csv',names = ['Product Name', 'Quantity','Price','Datetime'])\n",
    "        low_items = data.loc[data['Quantity'] < 5 ,['Product Name','Quantity']].reset_index(drop = True)\n",
    "        display(low_items)\n",
    "    except FileNotFoundError :\n",
    "        print('File does not exist')"
   ]
  },
  {
   "cell_type": "code",
   "execution_count": 139,
   "id": "eeca2815",
   "metadata": {
    "ExecuteTime": {
     "end_time": "2024-01-15T15:17:56.142643Z",
     "start_time": "2024-01-15T15:17:56.117638Z"
    },
    "id": "eeca2815"
   },
   "outputs": [],
   "source": [
    "def run_inventory_ms():\n",
    "    print(greet())\n",
    "    count = 0\n",
    "    while True:\n",
    "        # interactive input options to be selected\n",
    "        print('\\nInventory Management System')\n",
    "        print('1. Add Product')\n",
    "        print('2. View Inventory')\n",
    "        print('3. Search Product')\n",
    "        print('4. Remove Inventory')\n",
    "        print('00. Exit')\n",
    "        choice = input('Enter your choice: ')\n",
    "        if choice == '1':\n",
    "             add_product()\n",
    "        elif choice == '2':\n",
    "             view_inventory()\n",
    "        elif choice == '3':\n",
    "             search_product()\n",
    "        elif choice == '4':\n",
    "            remove_product_name()\n",
    "        elif choice == '00':\n",
    "            print('Exit!')\n",
    "            break\n",
    "        else:\n",
    "            print('\\nInvalid choice. please enter a number from the list above.')\n",
    "        count += 1\n",
    "        if count % 4 == 0:\n",
    "            low_notification()"
   ]
  },
  {
   "cell_type": "code",
   "execution_count": 146,
   "id": "8ec58bec",
   "metadata": {
    "ExecuteTime": {
     "end_time": "2024-01-15T15:19:17.269500Z",
     "start_time": "2024-01-15T15:19:07.078122Z"
    },
    "colab": {
     "base_uri": "https://localhost:8080/",
     "height": 539
    },
    "id": "8ec58bec",
    "outputId": "a7482fc6-f460-43da-946e-88aa468f6371"
   },
   "outputs": [
    {
     "name": "stdout",
     "output_type": "stream",
     "text": [
      "Good afternoon!\n",
      "\n",
      "Inventory Management System\n",
      "1. Add Product\n",
      "2. View Inventory\n",
      "3. Search Product\n",
      "4. Remove Inventory\n",
      "00. Exit\n",
      "Enter your choice: 2\n",
      "\n",
      "\n",
      "Product Inventory:\n",
      "\n"
     ]
    },
    {
     "data": {
      "text/html": [
       "<div>\n",
       "<style scoped>\n",
       "    .dataframe tbody tr th:only-of-type {\n",
       "        vertical-align: middle;\n",
       "    }\n",
       "\n",
       "    .dataframe tbody tr th {\n",
       "        vertical-align: top;\n",
       "    }\n",
       "\n",
       "    .dataframe thead th {\n",
       "        text-align: right;\n",
       "    }\n",
       "</style>\n",
       "<table border=\"1\" class=\"dataframe\">\n",
       "  <thead>\n",
       "    <tr style=\"text-align: right;\">\n",
       "      <th></th>\n",
       "      <th>Product Name</th>\n",
       "      <th>Quantity</th>\n",
       "      <th>Price</th>\n",
       "      <th>Datetime</th>\n",
       "    </tr>\n",
       "  </thead>\n",
       "  <tbody>\n",
       "    <tr>\n",
       "      <th>0</th>\n",
       "      <td>hp g3 1030 i5</td>\n",
       "      <td>2</td>\n",
       "      <td>310000</td>\n",
       "      <td>2024-01-15 15:53:14.423347</td>\n",
       "    </tr>\n",
       "    <tr>\n",
       "      <th>1</th>\n",
       "      <td>mangoes</td>\n",
       "      <td>65</td>\n",
       "      <td>20</td>\n",
       "      <td>2024-01-15 15:55:57.114453</td>\n",
       "    </tr>\n",
       "    <tr>\n",
       "      <th>2</th>\n",
       "      <td>chairs</td>\n",
       "      <td>12</td>\n",
       "      <td>4000</td>\n",
       "      <td>2024-01-15 15:56:14.073642</td>\n",
       "    </tr>\n",
       "    <tr>\n",
       "      <th>3</th>\n",
       "      <td>tables</td>\n",
       "      <td>2</td>\n",
       "      <td>3000</td>\n",
       "      <td>2024-01-15 15:56:40.019521</td>\n",
       "    </tr>\n",
       "  </tbody>\n",
       "</table>\n",
       "</div>"
      ],
      "text/plain": [
       "    Product Name  Quantity   Price                    Datetime\n",
       "0  hp g3 1030 i5         2  310000  2024-01-15 15:53:14.423347\n",
       "1        mangoes        65      20  2024-01-15 15:55:57.114453\n",
       "2         chairs        12    4000  2024-01-15 15:56:14.073642\n",
       "3         tables         2    3000  2024-01-15 15:56:40.019521"
      ]
     },
     "metadata": {},
     "output_type": "display_data"
    },
    {
     "name": "stdout",
     "output_type": "stream",
     "text": [
      "\n",
      "Inventory Management System\n",
      "1. Add Product\n",
      "2. View Inventory\n",
      "3. Search Product\n",
      "4. Remove Inventory\n",
      "00. Exit\n",
      "Enter your choice: 00\n",
      "Exit!\n"
     ]
    }
   ],
   "source": [
    "if __name__ == '__main__':\n",
    "    run_inventory_ms()"
   ]
  }
 ],
 "metadata": {
  "colab": {
   "provenance": []
  },
  "kernelspec": {
   "display_name": "Python 3",
   "language": "python",
   "name": "python3"
  },
  "language_info": {
   "codemirror_mode": {
    "name": "ipython",
    "version": 3
   },
   "file_extension": ".py",
   "mimetype": "text/x-python",
   "name": "python",
   "nbconvert_exporter": "python",
   "pygments_lexer": "ipython3",
   "version": "3.8.8"
  }
 },
 "nbformat": 4,
 "nbformat_minor": 5
}
